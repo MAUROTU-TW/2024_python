{
 "cells": [
  {
   "cell_type": "code",
   "execution_count": 2,
   "metadata": {},
   "outputs": [
    {
     "name": "stdout",
     "output_type": "stream",
     "text": [
      "您的體重77身高180  BMI值23.77  BMI標準\n"
     ]
    }
   ],
   "source": [
    "try:\n",
    "    weight = int(input('請輸入體重kg:'))\n",
    "    hight = int(input('請輸入身高cm:'))\n",
    "except:\n",
    "    print(\"輸入格式錯誤\")\n",
    "\n",
    "else:\n",
    "\n",
    "    BMI=round(weight/((hight/100)**2),2)\n",
    "    if BMI >= 35:\n",
    "        WH=\"重度肥胖\"\n",
    "    elif BMI >= 30:    \n",
    "        WH=\"肥胖\"\n",
    "    elif BMI >= 27:    \n",
    "        WH=\"中度肥胖\"\n",
    "    elif BMI >= 24:    \n",
    "        WH=\"過重\"\n",
    "    elif BMI >= 18.5:    \n",
    "        WH=\"標準\" \n",
    "    else:\n",
    "        WH=\"過輕\"\n",
    "print(f'您的體重{weight}身高{hight}  BMI值{BMI}  BMI{WH}')"
   ]
  }
 ],
 "metadata": {
  "kernelspec": {
   "display_name": "base",
   "language": "python",
   "name": "python3"
  },
  "language_info": {
   "codemirror_mode": {
    "name": "ipython",
    "version": 3
   },
   "file_extension": ".py",
   "mimetype": "text/x-python",
   "name": "python",
   "nbconvert_exporter": "python",
   "pygments_lexer": "ipython3",
   "version": "3.12.3"
  }
 },
 "nbformat": 4,
 "nbformat_minor": 2
}
